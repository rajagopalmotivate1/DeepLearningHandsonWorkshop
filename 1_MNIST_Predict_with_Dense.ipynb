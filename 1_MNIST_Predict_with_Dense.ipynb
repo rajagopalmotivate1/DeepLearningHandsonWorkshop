{
  "nbformat": 4,
  "nbformat_minor": 0,
  "metadata": {
    "colab": {
      "name": "1. MNIST Predict with Dense.ipynb",
      "version": "0.3.2",
      "provenance": [],
      "include_colab_link": true
    },
    "kernelspec": {
      "name": "python3",
      "display_name": "Python 3"
    }
  },
  "cells": [
    {
      "cell_type": "markdown",
      "metadata": {
        "id": "view-in-github",
        "colab_type": "text"
      },
      "source": [
        "<a href=\"https://colab.research.google.com/github/rajagopalmotivate1/DeepLearningHandsonWorkshop/blob/master/1_MNIST_Predict_with_Dense.ipynb\" target=\"_parent\"><img src=\"https://colab.research.google.com/assets/colab-badge.svg\" alt=\"Open In Colab\"/></a>"
      ]
    },
    {
      "metadata": {
        "id": "GcGASTOTWmux",
        "colab_type": "text"
      },
      "cell_type": "markdown",
      "source": [
        "# *My Deep Learning Jump start Project No. 1*"
      ]
    },
    {
      "metadata": {
        "id": "ih46rSIMUSxp",
        "colab_type": "text"
      },
      "cell_type": "markdown",
      "source": [
        "# My 1st Deep Learning experiement. G\n",
        "##Given an image (digit), predict what class this image belongs. \n",
        "### X is 28x28 image , Y is a label (can be any digit between 0 to 9)\n",
        "\n",
        "# My name: "
      ]
    },
    {
      "metadata": {
        "id": "513c4ViDVSZ0",
        "colab_type": "text"
      },
      "cell_type": "markdown",
      "source": [
        "##Here are my steps\n",
        "###Step 1: Define the Problem and Collect data, Load the collected data, Visuvalize it\n",
        "###Step 2: Prepare the data (vectorize, reshape, normalize, OHE)\n",
        "###Step 3: Define the network architecture\n",
        "###Step 4: Define the metrics, optimizers, loss function, and Complie the model\n",
        "###Step 5: Train the network\n",
        "###Step 6: Evaluate the network, Iterate to improve the model\n",
        "###Step 7: Predict"
      ]
    },
    {
      "metadata": {
        "id": "l_ptIb6CEon5",
        "colab_type": "code",
        "colab": {}
      },
      "cell_type": "code",
      "source": [
        "from keras.datasets import mnist\n",
        "from keras import models\n",
        "from keras import layers\n",
        "from keras.utils import to_categorical\n",
        "from matplotlib import pyplot\n",
        "from keras.utils import plot_model\n",
        "from IPython.display import Image\n"
      ],
      "execution_count": 0,
      "outputs": []
    },
    {
      "metadata": {
        "id": "xX7Iz4NDYAaV",
        "colab_type": "text"
      },
      "cell_type": "markdown",
      "source": [
        "\n",
        "# 1. Download the MNIST dataset, and load it into 4 variables\n",
        "```\n",
        "(trainX, trainY), (testX, testY) = mnist.load_data()\n",
        "\n",
        "```\n",
        "##Tip 1.  aKerasDataset. load_data(): This method returns 4 variables\n",
        "\n",
        "##Tip 2.  type(myObject) : Use this to find the type of object \n",
        "          (e.g. is it a interger, array)\n",
        "\n",
        "##Tip 3.  myArrary.shape returns the size of the array. \n",
        "            1 D array of 10 elements will be (10).              \n",
        "            2 D array will be (8, 8). \n",
        "\n",
        "\n",
        "\n"
      ]
    },
    {
      "metadata": {
        "id": "OhDD1Wx1EtyT",
        "colab_type": "code",
        "colab": {
          "base_uri": "https://localhost:8080/",
          "height": 118
        },
        "outputId": "586b5e5f-b84e-4e15-fe20-ebf8f96b1ccd"
      },
      "cell_type": "code",
      "source": [
        "#Step 1: Load the collected data, Visuvalize it\n",
        "\n",
        "(trainX, trainY), (testX, testY) = mnist.load_data()\n",
        "\n",
        "\n",
        "print('The type of object is ..')\n",
        "print(type(trainX))\n",
        "\n",
        "numberofTrainingsamples = trainX.shape[0]\n",
        "print(\"number of Training samples = \" + str(numberofTrainingsamples))\n",
        "\n",
        "print( \"Shape of trainX: \"+ str(trainX.shape) + \".   Shape of trainY\" + str( trainY.shape))\n",
        "print( \"Shape of testX: \"+ str(testX.shape) )\n",
        "\n",
        "\n",
        "print(\"number of Test samples = \" + str(testX.shape[0]))\n",
        "\n"
      ],
      "execution_count": 43,
      "outputs": [
        {
          "output_type": "stream",
          "text": [
            "The type of object is ..\n",
            "<class 'numpy.ndarray'>\n",
            "number of Training samples = 60000\n",
            "Shape of trainX: (60000, 28, 28).   Shape of trainY(60000,)\n",
            "Shape of testX: (10000, 28, 28)\n",
            "number of Test samples = 10000\n"
          ],
          "name": "stdout"
        }
      ]
    },
    {
      "metadata": {
        "id": "m-4-m8pybmqi",
        "colab_type": "text"
      },
      "cell_type": "markdown",
      "source": [
        "#2. Visuvalize one of the elements of the dataset"
      ]
    },
    {
      "metadata": {
        "id": "tqcmxJs4E_D9",
        "colab_type": "code",
        "colab": {
          "base_uri": "https://localhost:8080/",
          "height": 398
        },
        "outputId": "44d8e550-bbb2-478d-fa74-47c55077254c"
      },
      "cell_type": "code",
      "source": [
        "print(\"TrainY [76] is labels as = \" + str(trainY[76]))\n",
        "print(\"TrainX [76] is a image and looks like this...\")\n",
        "pyplot.imshow(trainX[76])\n",
        "pyplot.show()\n",
        "print( \"Shape of this image is \"+ str(trainX[76].shape) )\n",
        "\n"
      ],
      "execution_count": 44,
      "outputs": [
        {
          "output_type": "stream",
          "text": [
            "TrainY [76] is labels as = 2\n",
            "TrainX [76] is a image and looks like this...\n"
          ],
          "name": "stdout"
        },
        {
          "output_type": "display_data",
          "data": {
            "image/png": "[encoded data removed]",
            "text/plain": [
              "<Figure size 576x396 with 1 Axes>"
            ]
          },
          "metadata": {
            "tags": []
          }
        },
        {
          "output_type": "stream",
          "text": [
            "Shape of this image is (28, 28)\n"
          ],
          "name": "stdout"
        }
      ]
    },
    {
      "metadata": {
        "id": "ovoUonr4b2as",
        "colab_type": "text"
      },
      "cell_type": "markdown",
      "source": [
        "# 2.a Normalize values by dividing by 255\n",
        "\n",
        "Check the values of the arrary before and after dividing it by 255. We divide to normalize the values between 0 and 1 \n",
        "\n",
        "## Tip 1: matplotlib.pyplot.imshow(myArray): Use this to plot an array as a image\n"
      ]
    },
    {
      "metadata": {
        "id": "Elycn3tZFbs1",
        "colab_type": "code",
        "colab": {
          "base_uri": "https://localhost:8080/",
          "height": 1355
        },
        "outputId": "ff7e6d5d-df9f-49b7-8805-52a07a67a846"
      },
      "cell_type": "code",
      "source": [
        "print(\"TrainY [1000] is labels as = \" + str(trainY[1000]))\n",
        "print(\"TrainX [1000] is a image and looks like this...\")\n",
        "pyplot.imshow(trainX[1000])\n",
        "pyplot.show()\n",
        "print( \"Shape of this image is \"+ str(trainX[1000].shape) )\n",
        "print(\"This is a 2 dimensional array and its value is\") \n",
        "print(trainX[1000])\n",
        "\n"
      ],
      "execution_count": 45,
      "outputs": [
        {
          "output_type": "stream",
          "text": [
            "TrainY [1000] is labels as = 0\n",
            "TrainX [1000] is a image and looks like this...\n"
          ],
          "name": "stdout"
        },
        {
          "output_type": "display_data",
          "data": {
            "image/png": "[encoded data removed]",
            "text/plain": [
              "<Figure size 576x396 with 1 Axes>"
            ]
          },
          "metadata": {
            "tags": []
          }
        },
        {
          "output_type": "stream",
          "text": [
            "Shape of this image is (28, 28)\n",
            "This is a 2 dimensional array and its value is\n",
            "[[  0   0   0   0   0   0   0   0   0   0   0   0   0   0   0   0   0   0\n",
            "    0   0   0   0   0   0   0   0   0   0]\n",
            " [  0   0   0   0   0   0   0   0   0   0   0   0   0   0   0   0   0   0\n",
            "    0   0   0   0   0   0   0   0   0   0]\n",
            " [  0   0   0   0   0   0   0   0   0   0   0   0   0   0   0   0   0   0\n",
            "    0   0   0   0   0   0   0   0   0   0]\n",
            " [  0   0   0   0   0   0   0   0   0   0   0   0   0   0   0   0   0   0\n",
            "    0   0   0   0   0   0   0   0   0   0]\n",
            " [  0   0   0   0   0   0   0   0   0   0   0   0   0   0   0   0   0   0\n",
            "    0   0   0   0   0   0   0   0   0   0]\n",
            " [  0   0   0   0   0   0   0   0   0   0   0   0   0   0  36 146 254 255\n",
            "  251  95   6   0   0   0   0   0   0   0]\n",
            " [  0   0   0   0   0   0   0   0   0   0   0   0   3  97 234 254 254 232\n",
            "  254 254  35   0   0   0   0   0   0   0]\n",
            " [  0   0   0   0   0   0   0   0   0   0   0  89 140 254 254 174  67  33\n",
            "  200 254 190   0   0   0   0   0   0   0]\n",
            " [  0   0   0   0   0   0   0   0   0   0 108 253 254 235  51   1   0   0\n",
            "   12 254 253  56   0   0   0   0   0   0]\n",
            " [  0   0   0   0   0   0   0   0   0  12 216 254 244  55   0   0   0   0\n",
            "    6 213 254  57   0   0   0   0   0   0]\n",
            " [  0   0   0   0   0   0   0   0   0  25 254 254 132   0   0   0   0   0\n",
            "    0 168 254  57   0   0   0   0   0   0]\n",
            " [  0   0   0   0   0   0   0   0   0  45 254 243  34   0   0   0   0   0\n",
            "    0 168 254  57   0   0   0   0   0   0]\n",
            " [  0   0   0   0   0   0   0   0   0 128 254 157   0   0   0   0   0   0\n",
            "    0 168 254  57   0   0   0   0   0   0]\n",
            " [  0   0   0   0   0   0   0   0  19 228 254 105   0   0   0   0   0   0\n",
            "    7 228 254  57   0   0   0   0   0   0]\n",
            " [  0   0   0   0   0   0   0   0  58 254 254  87   0   0   0   0   0   0\n",
            "   10 254 246  47   0   0   0   0   0   0]\n",
            " [  0   0   0   0   0   0   0   0  58 254 254   9   0   0   0   0   0   0\n",
            "   10 254 210   0   0   0   0   0   0   0]\n",
            " [  0   0   0   0   0   0   0   0  58 254 254   9   0   0   0   0   0   0\n",
            "  105 254  91   0   0   0   0   0   0   0]\n",
            " [  0   0   0   0   0   0   0   0   5 219 254   9   0   0   0   0   0  24\n",
            "  230 254  24   0   0   0   0   0   0   0]\n",
            " [  0   0   0   0   0   0   0   0   0 216 254   9   0   0   0   0   0  84\n",
            "  254 251  23   0   0   0   0   0   0   0]\n",
            " [  0   0   0   0   0   0   0   0   0 216 254  36   0   0   0   0  22 208\n",
            "  251  94   0   0   0   0   0   0   0   0]\n",
            " [  0   0   0   0   0   0   0   0   0 129 254 120   0   0   0   3 140 254\n",
            "  229   0   0   0   0   0   0   0   0   0]\n",
            " [  0   0   0   0   0   0   0   0   0  83 254 222  17   0   0  91 254 236\n",
            "   53   0   0   0   0   0   0   0   0   0]\n",
            " [  0   0   0   0   0   0   0   0   0  18 235 254 134  21 119 237 254 124\n",
            "    0   0   0   0   0   0   0   0   0   0]\n",
            " [  0   0   0   0   0   0   0   0   0   0  53 249 254 234 252 254 172   3\n",
            "    0   0   0   0   0   0   0   0   0   0]\n",
            " [  0   0   0   0   0   0   0   0   0   0   0 116 237 254 254 133  20   0\n",
            "    0   0   0   0   0   0   0   0   0   0]\n",
            " [  0   0   0   0   0   0   0   0   0   0   0   0   0   0   0   0   0   0\n",
            "    0   0   0   0   0   0   0   0   0   0]\n",
            " [  0   0   0   0   0   0   0   0   0   0   0   0   0   0   0   0   0   0\n",
            "    0   0   0   0   0   0   0   0   0   0]\n",
            " [  0   0   0   0   0   0   0   0   0   0   0   0   0   0   0   0   0   0\n",
            "    0   0   0   0   0   0   0   0   0   0]]\n"
          ],
          "name": "stdout"
        }
      ]
    },
    {
      "metadata": {
        "id": "CpHaNznyHwYd",
        "colab_type": "code",
        "colab": {
          "base_uri": "https://localhost:8080/",
          "height": 50
        },
        "outputId": "948bab34-cbcf-4310-a7bb-a96e5ed3d794"
      },
      "cell_type": "code",
      "source": [
        "#Step 2: Prepare the data (vectorize, reshape, normalize, OHE)\n",
        "\n",
        "print(\"trainY: \"+ str(trainY[2]))\n",
        "trainYready = to_categorical(trainY)\n",
        "print(\"trainYOHE: \"+ str(trainYready[2]))\n",
        "testYready = to_categorical(testY)\n",
        "\n"
      ],
      "execution_count": 46,
      "outputs": [
        {
          "output_type": "stream",
          "text": [
            "trainY: 4\n",
            "trainYOHE: [0. 0. 0. 0. 1. 0. 0. 0. 0. 0.]\n"
          ],
          "name": "stdout"
        }
      ]
    },
    {
      "metadata": {
        "id": "KKzam6YSKIb5",
        "colab_type": "code",
        "colab": {}
      },
      "cell_type": "code",
      "source": [
        "\n",
        "trainXnormalized =  trainX.astype('float32') / 255\n",
        "\n",
        "testXnormalized = testX.astype('float32')/ 255"
      ],
      "execution_count": 0,
      "outputs": []
    },
    {
      "metadata": {
        "id": "pcaALZqmICjB",
        "colab_type": "code",
        "colab": {
          "base_uri": "https://localhost:8080/",
          "height": 2750
        },
        "outputId": "6defcffa-a1f8-4037-dee8-4e286a6b3225"
      },
      "cell_type": "code",
      "source": [
        "print(\"trainXready [1000] is a image and looks like this...\")\n",
        "pyplot.imshow(trainXnormalized[1000])\n",
        "pyplot.show()\n",
        "print( \"Shape of this image is \"+ str(trainXnormalized[1000].shape) )\n",
        "print(\"This is a 2 dimensional array and its value is\") \n",
        "print(trainXnormalized[1000])\n",
        "\n"
      ],
      "execution_count": 48,
      "outputs": [
        {
          "output_type": "stream",
          "text": [
            "trainXready [1000] is a image and looks like this...\n"
          ],
          "name": "stdout"
        },
        {
          "output_type": "display_data",
          "data": {
            "image/png": "[encoded data removed]",
            "text/plain": [
              "<Figure size 576x396 with 1 Axes>"
            ]
          },
          "metadata": {
            "tags": []
          }
        },
        {
          "output_type": "stream",
          "text": [
            "Shape of this image is (28, 28)\n",
            "This is a 2 dimensional array and its value is\n",
            "[[0.         0.         0.         0.         0.         0.\n",
            "  0.         0.         0.         0.         0.         0.\n",
            "  0.         0.         0.         0.         0.         0.\n",
            "  0.         0.         0.         0.         0.         0.\n",
            "  0.         0.         0.         0.        ]\n",
            " [0.         0.         0.         0.         0.         0.\n",
            "  0.         0.         0.         0.         0.         0.\n",
            "  0.         0.         0.         0.         0.         0.\n",
            "  0.         0.         0.         0.         0.         0.\n",
            "  0.         0.         0.         0.        ]\n",
            " [0.         0.         0.         0.         0.         0.\n",
            "  0.         0.         0.         0.         0.         0.\n",
            "  0.         0.         0.         0.         0.         0.\n",
            "  0.         0.         0.         0.         0.         0.\n",
            "  0.         0.         0.         0.        ]\n",
            " [0.         0.         0.         0.         0.         0.\n",
            "  0.         0.         0.         0.         0.         0.\n",
            "  0.         0.         0.         0.         0.         0.\n",
            "  0.         0.         0.         0.         0.         0.\n",
            "  0.         0.         0.         0.        ]\n",
            " [0.         0.         0.         0.         0.         0.\n",
            "  0.         0.         0.         0.         0.         0.\n",
            "  0.         0.         0.         0.         0.         0.\n",
            "  0.         0.         0.         0.         0.         0.\n",
            "  0.         0.         0.         0.        ]\n",
            " [0.         0.         0.         0.         0.         0.\n",
            "  0.         0.         0.         0.         0.         0.\n",
            "  0.         0.         0.14117648 0.57254905 0.99607843 1.\n",
            "  0.9843137  0.37254903 0.02352941 0.         0.         0.\n",
            "  0.         0.         0.         0.        ]\n",
            " [0.         0.         0.         0.         0.         0.\n",
            "  0.         0.         0.         0.         0.         0.\n",
            "  0.01176471 0.38039216 0.91764706 0.99607843 0.99607843 0.9098039\n",
            "  0.99607843 0.99607843 0.13725491 0.         0.         0.\n",
            "  0.         0.         0.         0.        ]\n",
            " [0.         0.         0.         0.         0.         0.\n",
            "  0.         0.         0.         0.         0.         0.34901962\n",
            "  0.54901963 0.99607843 0.99607843 0.68235296 0.2627451  0.12941177\n",
            "  0.78431374 0.99607843 0.74509805 0.         0.         0.\n",
            "  0.         0.         0.         0.        ]\n",
            " [0.         0.         0.         0.         0.         0.\n",
            "  0.         0.         0.         0.         0.42352942 0.99215686\n",
            "  0.99607843 0.92156863 0.2        0.00392157 0.         0.\n",
            "  0.04705882 0.99607843 0.99215686 0.21960784 0.         0.\n",
            "  0.         0.         0.         0.        ]\n",
            " [0.         0.         0.         0.         0.         0.\n",
            "  0.         0.         0.         0.04705882 0.84705883 0.99607843\n",
            "  0.95686275 0.21568628 0.         0.         0.         0.\n",
            "  0.02352941 0.8352941  0.99607843 0.22352941 0.         0.\n",
            "  0.         0.         0.         0.        ]\n",
            " [0.         0.         0.         0.         0.         0.\n",
            "  0.         0.         0.         0.09803922 0.99607843 0.99607843\n",
            "  0.5176471  0.         0.         0.         0.         0.\n",
            "  0.         0.65882355 0.99607843 0.22352941 0.         0.\n",
            "  0.         0.         0.         0.        ]\n",
            " [0.         0.         0.         0.         0.         0.\n",
            "  0.         0.         0.         0.1764706  0.99607843 0.9529412\n",
            "  0.13333334 0.         0.         0.         0.         0.\n",
            "  0.         0.65882355 0.99607843 0.22352941 0.         0.\n",
            "  0.         0.         0.         0.        ]\n",
            " [0.         0.         0.         0.         0.         0.\n",
            "  0.         0.         0.         0.5019608  0.99607843 0.6156863\n",
            "  0.         0.         0.         0.         0.         0.\n",
            "  0.         0.65882355 0.99607843 0.22352941 0.         0.\n",
            "  0.         0.         0.         0.        ]\n",
            " [0.         0.         0.         0.         0.         0.\n",
            "  0.         0.         0.07450981 0.89411765 0.99607843 0.4117647\n",
            "  0.         0.         0.         0.         0.         0.\n",
            "  0.02745098 0.89411765 0.99607843 0.22352941 0.         0.\n",
            "  0.         0.         0.         0.        ]\n",
            " [0.         0.         0.         0.         0.         0.\n",
            "  0.         0.         0.22745098 0.99607843 0.99607843 0.34117648\n",
            "  0.         0.         0.         0.         0.         0.\n",
            "  0.03921569 0.99607843 0.9647059  0.18431373 0.         0.\n",
            "  0.         0.         0.         0.        ]\n",
            " [0.         0.         0.         0.         0.         0.\n",
            "  0.         0.         0.22745098 0.99607843 0.99607843 0.03529412\n",
            "  0.         0.         0.         0.         0.         0.\n",
            "  0.03921569 0.99607843 0.8235294  0.         0.         0.\n",
            "  0.         0.         0.         0.        ]\n",
            " [0.         0.         0.         0.         0.         0.\n",
            "  0.         0.         0.22745098 0.99607843 0.99607843 0.03529412\n",
            "  0.         0.         0.         0.         0.         0.\n",
            "  0.4117647  0.99607843 0.35686275 0.         0.         0.\n",
            "  0.         0.         0.         0.        ]\n",
            " [0.         0.         0.         0.         0.         0.\n",
            "  0.         0.         0.01960784 0.85882354 0.99607843 0.03529412\n",
            "  0.         0.         0.         0.         0.         0.09411765\n",
            "  0.9019608  0.99607843 0.09411765 0.         0.         0.\n",
            "  0.         0.         0.         0.        ]\n",
            " [0.         0.         0.         0.         0.         0.\n",
            "  0.         0.         0.         0.84705883 0.99607843 0.03529412\n",
            "  0.         0.         0.         0.         0.         0.32941177\n",
            "  0.99607843 0.9843137  0.09019608 0.         0.         0.\n",
            "  0.         0.         0.         0.        ]\n",
            " [0.         0.         0.         0.         0.         0.\n",
            "  0.         0.         0.         0.84705883 0.99607843 0.14117648\n",
            "  0.         0.         0.         0.         0.08627451 0.8156863\n",
            "  0.9843137  0.36862746 0.         0.         0.         0.\n",
            "  0.         0.         0.         0.        ]\n",
            " [0.         0.         0.         0.         0.         0.\n",
            "  0.         0.         0.         0.5058824  0.99607843 0.47058824\n",
            "  0.         0.         0.         0.01176471 0.54901963 0.99607843\n",
            "  0.8980392  0.         0.         0.         0.         0.\n",
            "  0.         0.         0.         0.        ]\n",
            " [0.         0.         0.         0.         0.         0.\n",
            "  0.         0.         0.         0.3254902  0.99607843 0.87058824\n",
            "  0.06666667 0.         0.         0.35686275 0.99607843 0.9254902\n",
            "  0.20784314 0.         0.         0.         0.         0.\n",
            "  0.         0.         0.         0.        ]\n",
            " [0.         0.         0.         0.         0.         0.\n",
            "  0.         0.         0.         0.07058824 0.92156863 0.99607843\n",
            "  0.5254902  0.08235294 0.46666667 0.92941177 0.99607843 0.4862745\n",
            "  0.         0.         0.         0.         0.         0.\n",
            "  0.         0.         0.         0.        ]\n",
            " [0.         0.         0.         0.         0.         0.\n",
            "  0.         0.         0.         0.         0.20784314 0.9764706\n",
            "  0.99607843 0.91764706 0.9882353  0.99607843 0.6745098  0.01176471\n",
            "  0.         0.         0.         0.         0.         0.\n",
            "  0.         0.         0.         0.        ]\n",
            " [0.         0.         0.         0.         0.         0.\n",
            "  0.         0.         0.         0.         0.         0.45490196\n",
            "  0.92941177 0.99607843 0.99607843 0.52156866 0.07843138 0.\n",
            "  0.         0.         0.         0.         0.         0.\n",
            "  0.         0.         0.         0.        ]\n",
            " [0.         0.         0.         0.         0.         0.\n",
            "  0.         0.         0.         0.         0.         0.\n",
            "  0.         0.         0.         0.         0.         0.\n",
            "  0.         0.         0.         0.         0.         0.\n",
            "  0.         0.         0.         0.        ]\n",
            " [0.         0.         0.         0.         0.         0.\n",
            "  0.         0.         0.         0.         0.         0.\n",
            "  0.         0.         0.         0.         0.         0.\n",
            "  0.         0.         0.         0.         0.         0.\n",
            "  0.         0.         0.         0.        ]\n",
            " [0.         0.         0.         0.         0.         0.\n",
            "  0.         0.         0.         0.         0.         0.\n",
            "  0.         0.         0.         0.         0.         0.\n",
            "  0.         0.         0.         0.         0.         0.\n",
            "  0.         0.         0.         0.        ]]\n"
          ],
          "name": "stdout"
        }
      ]
    },
    {
      "metadata": {
        "id": "YHtEsnhlIwfk",
        "colab_type": "code",
        "colab": {
          "base_uri": "https://localhost:8080/",
          "height": 84
        },
        "outputId": "43b197b3-63d4-451d-cfe3-bb9ace904b7e"
      },
      "cell_type": "code",
      "source": [
        "print(\"Shape of trainXnormalized[0] is \"+ str(trainXnormalized.shape[0]))\n",
        "\n",
        "\n",
        "print( \"\\n Shape of trainXnormalized is \"+ str(trainXnormalized.shape) )\n",
        "\n",
        "trainXready = trainXnormalized.reshape( trainXnormalized.shape[0], 28*28 )\n",
        "\n",
        "testXready = testXnormalized.reshape( testXnormalized.shape[0], 28*28 )\n",
        "\n",
        "print( \" Shape of trainXready is      \"+ str(trainXready.shape) )\n",
        "\n",
        "\n",
        "\n"
      ],
      "execution_count": 49,
      "outputs": [
        {
          "output_type": "stream",
          "text": [
            "Shape of trainXnormalized[0] is 60000\n",
            "\n",
            " Shape of trainXnormalized is (60000, 28, 28)\n",
            " Shape of trainXready is      (60000, 784)\n"
          ],
          "name": "stdout"
        }
      ]
    },
    {
      "metadata": {
        "id": "5f5enbzldCZi",
        "colab_type": "text"
      },
      "cell_type": "markdown",
      "source": [
        "#3. Define the network architecture\n",
        "\n"
      ]
    },
    {
      "metadata": {
        "id": "4y-n-9slLLJg",
        "colab_type": "code",
        "colab": {}
      },
      "cell_type": "code",
      "source": [
        "#Step 3: Define the network architecture\n",
        "network = models.Sequential(name='My first Neural network , thanks Karunya')\n",
        "layer1 = layers.Dense(512, input_shape=(28*28,), activation='relu')\n",
        "network.add(layer1)\n",
        "layer2 = layers.Dense(128, activation='relu')\n",
        "network.add(layer2)\n",
        "layer3 = layers.Dense(10, activation='softmax')\n",
        "network.add(layer3)\n"
      ],
      "execution_count": 0,
      "outputs": []
    },
    {
      "metadata": {
        "id": "BW4OW6RHLQhv",
        "colab_type": "code",
        "colab": {
          "base_uri": "https://localhost:8080/",
          "height": 286
        },
        "outputId": "6d56a39e-921a-4320-ed72-9c6fb4ec3c26"
      },
      "cell_type": "code",
      "source": [
        "print(network.name)\n",
        "\n",
        "print(\"Here is architecture of my neural network..  \")\n",
        "\n",
        "print(network.summary())"
      ],
      "execution_count": 51,
      "outputs": [
        {
          "output_type": "stream",
          "text": [
            "My first Neural network , thanks Karunya\n",
            "Here is architecture of my neural network..  \n",
            "_________________________________________________________________\n",
            "Layer (type)                 Output Shape              Param #   \n",
            "=================================================================\n",
            "dense_7 (Dense)              (None, 512)               401920    \n",
            "_________________________________________________________________\n",
            "dense_8 (Dense)              (None, 128)               65664     \n",
            "_________________________________________________________________\n",
            "dense_9 (Dense)              (None, 10)                1290      \n",
            "=================================================================\n",
            "Total params: 468,874\n",
            "Trainable params: 468,874\n",
            "Non-trainable params: 0\n",
            "_________________________________________________________________\n",
            "None\n"
          ],
          "name": "stdout"
        }
      ]
    },
    {
      "metadata": {
        "id": "HNepGJblLo8c",
        "colab_type": "code",
        "colab": {
          "base_uri": "https://localhost:8080/",
          "height": 297
        },
        "outputId": "6b8769cb-e290-4107-d36c-f8e87cecbf39"
      },
      "cell_type": "code",
      "source": [
        "# Plot model graph\n",
        "\n",
        "print('This is neural network model is a Fully Connected Neural network consisting of 3 Dense layers')\n",
        "print('Input is a array of 784 elements ')\n",
        "print('Output is one of 10 classes ')\n",
        "\n",
        "print(network.name)\n",
        "\n",
        "print(network)\n",
        "\n",
        "plot_model(network, show_shapes=True, show_layer_names=True, to_file='my1stmodel.png')\n",
        "Image(retina=True, filename='my1stmodel.png')\n",
        "\n",
        "\n",
        "\n"
      ],
      "execution_count": 67,
      "outputs": [
        {
          "output_type": "stream",
          "text": [
            "This is neural network model is a Fully Connected Neural network consisting of 3 Dense layers\n",
            "Input is a array of 784 elements \n",
            "Output is one of 10 classes \n",
            "My first Neural network , thanks Karunya\n",
            "<keras.engine.sequential.Sequential object at 0x7efd891b1128>\n"
          ],
          "name": "stdout"
        },
        {
          "output_type": "execute_result",
          "data": {
            "image/png": "[encoded data removed]",
            "text/plain": [
              "<IPython.core.display.Image object>"
            ]
          },
          "metadata": {
            "tags": [],
            "image/png": {
              "width": 173,
              "height": 196
            }
          },
          "execution_count": 67
        }
      ]
    },
    {
      "metadata": {
        "id": "lEkaktnRPVrJ",
        "colab_type": "code",
        "colab": {}
      },
      "cell_type": "code",
      "source": [
        "from google.colab import files\n",
        "files.download('my1stmodel.png')"
      ],
      "execution_count": 0,
      "outputs": []
    },
    {
      "metadata": {
        "id": "cKWqPm6ldVTe",
        "colab_type": "text"
      },
      "cell_type": "markdown",
      "source": [
        "#4. Choose the loss funtion"
      ]
    },
    {
      "metadata": {
        "id": "fsrdAyo5QoGY",
        "colab_type": "code",
        "colab": {}
      },
      "cell_type": "code",
      "source": [
        "#Step 4: Define the metrics, optimizers, loss function, and Complie the model\n",
        "network.compile(optimizer='rmsprop', loss='categorical_crossentropy', metrics=['accuracy'])\n"
      ],
      "execution_count": 0,
      "outputs": []
    },
    {
      "metadata": {
        "id": "xPE41erDdeyF",
        "colab_type": "code",
        "colab": {}
      },
      "cell_type": "code",
      "source": [
        "#5. Train the network "
      ],
      "execution_count": 0,
      "outputs": []
    },
    {
      "metadata": {
        "id": "gHHI14JJdmVx",
        "colab_type": "text"
      },
      "cell_type": "markdown",
      "source": [
        "# 5. Train the network\n",
        "\n",
        "##Tip 1 : myModel.fit( X, Y ) trains the neural network with dataset (X, Y ). \n",
        "It returns a log history, which is a log of values in each iteration "
      ]
    },
    {
      "metadata": {
        "id": "Jd21BCvUQrrr",
        "colab_type": "code",
        "colab": {
          "base_uri": "https://localhost:8080/",
          "height": 353
        },
        "outputId": "b7a96cea-79d6-453b-a530-dbf86dd685d5"
      },
      "cell_type": "code",
      "source": [
        "#Step 5: Train the network\n",
        "history = network.fit( trainXready, trainYready, batch_size=32, epochs=10)\n"
      ],
      "execution_count": 56,
      "outputs": [
        {
          "output_type": "stream",
          "text": [
            "Epoch 1/10\n",
            "60000/60000 [==============================] - 14s 228us/step - loss: 0.1939 - acc: 0.9418\n",
            "Epoch 2/10\n",
            "60000/60000 [==============================] - 13s 223us/step - loss: 0.0912 - acc: 0.9745\n",
            "Epoch 3/10\n",
            "60000/60000 [==============================] - 13s 215us/step - loss: 0.0708 - acc: 0.9814\n",
            "Epoch 4/10\n",
            "60000/60000 [==============================] - 13s 216us/step - loss: 0.0583 - acc: 0.9849\n",
            "Epoch 5/10\n",
            "60000/60000 [==============================] - 13s 218us/step - loss: 0.0528 - acc: 0.9872\n",
            "Epoch 6/10\n",
            "60000/60000 [==============================] - 13s 219us/step - loss: 0.0455 - acc: 0.9891\n",
            "Epoch 7/10\n",
            "60000/60000 [==============================] - 13s 216us/step - loss: 0.0421 - acc: 0.9910\n",
            "Epoch 8/10\n",
            "60000/60000 [==============================] - 13s 212us/step - loss: 0.0384 - acc: 0.9917\n",
            "Epoch 9/10\n",
            "60000/60000 [==============================] - 13s 217us/step - loss: 0.0358 - acc: 0.9925\n",
            "Epoch 10/10\n",
            "60000/60000 [==============================] - 13s 218us/step - loss: 0.0336 - acc: 0.9934\n"
          ],
          "name": "stdout"
        }
      ]
    },
    {
      "metadata": {
        "id": "JgbZ34bwQwDw",
        "colab_type": "code",
        "colab": {
          "base_uri": "https://localhost:8080/",
          "height": 67
        },
        "outputId": "9f03f3a6-3e3c-4e0b-a123-fdfb560f42de"
      },
      "cell_type": "code",
      "source": [
        "#Step 6: Evaluate the network\n",
        "metrics_test_loss, metrics_test_accuracy = network.evaluate(testXready, testYready)\n",
        "\n",
        "print(\" Loss on test data is: \" + str(metrics_test_loss))\n",
        "print(\" Accuracy of my nerual network on test data in percentage is : \" + str(metrics_test_accuracy* 100))\n",
        "\n"
      ],
      "execution_count": 57,
      "outputs": [
        {
          "output_type": "stream",
          "text": [
            "10000/10000 [==============================] - 1s 58us/step\n",
            " Loss on test data is: 0.15259085900509994\n",
            " Accuracy of my nerual network on test data in percentage is : 97.91\n"
          ],
          "name": "stdout"
        }
      ]
    },
    {
      "metadata": {
        "id": "tBuUVJrUeJFu",
        "colab_type": "text"
      },
      "cell_type": "markdown",
      "source": [
        "# 6. Predict what class a image belongs to\n",
        "\n",
        "### Tip 1. myModel.predict() accepts a array "
      ]
    },
    {
      "metadata": {
        "id": "AfHQG05NRc0J",
        "colab_type": "code",
        "colab": {
          "base_uri": "https://localhost:8080/",
          "height": 465
        },
        "outputId": "ae4c63b6-8f9c-4a35-c8f3-872a4857ca43"
      },
      "cell_type": "code",
      "source": [
        "import numpy as np\n",
        "\n",
        "#Step 7: Predict\n",
        "\n",
        "\n",
        "predictedResults = network.predict(testXready[1:2])\n",
        "print(\"Predicted Results: \" + str(predictedResults))\n",
        "predictedclass = predictedResults.argmax()\n",
        "\n",
        "\n",
        "predictedResults = np.around(predictedResults)\n",
        "print(\"Predicted Results: \" + str(predictedResults))\n",
        "\n",
        "\n",
        "print(\"Ground Truth OHE : \" + str(testYready[1:2]))\n",
        "\n",
        "print(\"Ground Truth :      \" + str(testY[1:2]))\n",
        "\n",
        "print(\"Predicited class is : \" + str(predictedclass))\n",
        "\n",
        "print(\"My nerual network predicts the below image as : \" + str(predictedclass))\n",
        "\n",
        "\n",
        "pyplot.imshow(testX[1])\n",
        "pyplot.show()\n"
      ],
      "execution_count": 58,
      "outputs": [
        {
          "output_type": "stream",
          "text": [
            "Predicted Results: [[0.0000000e+00 1.8320236e-34 1.0000000e+00 2.7592029e-31 0.0000000e+00\n",
            "  0.0000000e+00 0.0000000e+00 0.0000000e+00 0.0000000e+00 0.0000000e+00]]\n",
            "Predicted Results: [[0. 0. 1. 0. 0. 0. 0. 0. 0. 0.]]\n",
            "Ground Truth OHE : [[0. 0. 1. 0. 0. 0. 0. 0. 0. 0.]]\n",
            "Ground Truth :      [2]\n",
            "Predicited class is : 2\n",
            "My nerual network predicts the below image as : 2\n"
          ],
          "name": "stdout"
        },
        {
          "output_type": "display_data",
          "data": {
            "image/png": "[encoded data removed]",
            "text/plain": [
              "<Figure size 576x396 with 1 Axes>"
            ]
          },
          "metadata": {
            "tags": []
          }
        }
      ]
    },
    {
      "metadata": {
        "id": "NN6BcMUGSyZe",
        "colab_type": "code",
        "colab": {
          "base_uri": "https://localhost:8080/",
          "height": 482
        },
        "outputId": "44a4b51b-e758-4d4a-cbe5-553a50a298b6"
      },
      "cell_type": "code",
      "source": [
        "\n",
        "#Step 7: Predict\n",
        "\n",
        "hereismyimageindextopredict = 100\n",
        "\n",
        "\n",
        "predictedResults = network.predict(testXready[hereismyimageindextopredict:hereismyimageindextopredict+1])\n",
        "print(\"Predicted Results: \" + str(predictedResults))\n",
        "predictedclass = predictedResults.argmax()\n",
        "\n",
        "\n",
        "predictedResults = np.around(predictedResults)\n",
        "print(\"Predicted Results: \" + str(predictedResults))\n",
        "\n",
        "\n",
        "print(\"Ground Truth OHE : \" + str(testYready[hereismyimageindextopredict:hereismyimageindextopredict+1]))\n",
        "\n",
        "print(\"Ground Truth :      \" + str(testY[hereismyimageindextopredict:hereismyimageindextopredict+1]))\n",
        "\n",
        "print(\"Predicited class is : \" + str(predictedclass))\n",
        "\n",
        "print(\"My nerual network predicts the below image as : \" + str(predictedclass))\n",
        "\n",
        "\n",
        "pyplot.imshow(testX[hereismyimageindextopredict])\n",
        "pyplot.show()\n"
      ],
      "execution_count": 59,
      "outputs": [
        {
          "output_type": "stream",
          "text": [
            "Predicted Results: [[9.76823740e-24 3.09461428e-27 6.64442133e-27 1.05566181e-32\n",
            "  2.08515957e-28 1.32874582e-18 1.00000000e+00 1.19322391e-30\n",
            "  1.12652715e-32 0.00000000e+00]]\n",
            "Predicted Results: [[0. 0. 0. 0. 0. 0. 1. 0. 0. 0.]]\n",
            "Ground Truth OHE : [[0. 0. 0. 0. 0. 0. 1. 0. 0. 0.]]\n",
            "Ground Truth :      [6]\n",
            "Predicited class is : 6\n",
            "My nerual network predicts the below image as : 6\n"
          ],
          "name": "stdout"
        },
        {
          "output_type": "display_data",
          "data": {
            "image/png": "[encoded data removed]",
            "text/plain": [
              "<Figure size 576x396 with 1 Axes>"
            ]
          },
          "metadata": {
            "tags": []
          }
        }
      ]
    },
    {
      "metadata": {
        "id": "MYNZN55BTgD6",
        "colab_type": "code",
        "colab": {
          "base_uri": "https://localhost:8080/",
          "height": 376
        },
        "outputId": "e94fdde2-719c-4979-db24-d2163cebd31d"
      },
      "cell_type": "code",
      "source": [
        "import matplotlib.pyplot as plt\n",
        "\n",
        "plt.plot(history.history['acc'])\n",
        "plt.title('Model accuracy')\n",
        "plt.ylabel('Accuracy')\n",
        "plt.xlabel('Epoch')\n",
        "plt.legend(['Train'], loc='upper left')\n",
        "plt.show()"
      ],
      "execution_count": 60,
      "outputs": [
        {
          "output_type": "display_data",
          "data": {
            "image/png": "[encoded data removed]",
            "text/plain": [
              "<Figure size 576x396 with 1 Axes>"
            ]
          },
          "metadata": {
            "tags": []
          }
        }
      ]
    },
    {
      "metadata": {
        "id": "iquI2z5JT_as",
        "colab_type": "code",
        "colab": {
          "base_uri": "https://localhost:8080/",
          "height": 376
        },
        "outputId": "cc24b906-84b5-467b-d8f7-59d6be7917e6"
      },
      "cell_type": "code",
      "source": [
        "# Plot training & validation loss values\n",
        "plt.plot(history.history['loss'])\n",
        "plt.title('Model loss')\n",
        "plt.ylabel('Loss')\n",
        "plt.xlabel('Epoch')\n",
        "plt.legend(['Train'], loc='upper left')\n",
        "plt.show()"
      ],
      "execution_count": 61,
      "outputs": [
        {
          "output_type": "display_data",
          "data": {
            "image/png": "[encoded data removed]",
            "text/plain": [
              "<Figure size 576x396 with 1 Axes>"
            ]
          },
          "metadata": {
            "tags": []
          }
        }
      ]
    }
  ]
}