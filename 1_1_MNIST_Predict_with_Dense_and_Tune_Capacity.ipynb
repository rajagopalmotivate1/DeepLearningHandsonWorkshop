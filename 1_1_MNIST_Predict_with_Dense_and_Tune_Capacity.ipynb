{
  "nbformat": 4,
  "nbformat_minor": 0,
  "metadata": {
    "colab": {
      "name": "1.1  MNIST Predict with Dense and Tune Capacity.ipynb",
      "version": "0.3.2",
      "provenance": [],
      "include_colab_link": true
    },
    "kernelspec": {
      "name": "python3",
      "display_name": "Python 3"
    },
    "accelerator": "GPU"
  },
  "cells": [
    {
      "cell_type": "markdown",
      "metadata": {
        "id": "view-in-github",
        "colab_type": "text"
      },
      "source": [
        "<a href=\"https://colab.research.google.com/github/rajagopalmotivate1/DeepLearningHandsonWorkshop/blob/master/1_1_MNIST_Predict_with_Dense_and_Tune_Capacity.ipynb\" target=\"_parent\"><img src=\"https://colab.research.google.com/assets/colab-badge.svg\" alt=\"Open In Colab\"/></a>"
      ]
    },
    {
      "metadata": {
        "id": "GcGASTOTWmux",
        "colab_type": "text"
      },
      "cell_type": "markdown",
      "source": [
        "# *My Deep Learning Jump start Project No. 1 . 1 \n",
        "\n",
        "1.   List item\n",
        "2.   List item\n",
        "\n"
      ]
    },
    {
      "metadata": {
        "id": "ih46rSIMUSxp",
        "colab_type": "text"
      },
      "cell_type": "markdown",
      "source": [
        "# My 1st Deep Learning experiement , with some few lines of adventures  \n",
        "##Given an image (digit), predict what class this image belongs. \n",
        "### X is 28x28 image , Y is a label (can be any digit between 0 to 9)\n",
        "\n",
        "# My name: "
      ]
    },
    {
      "metadata": {
        "id": "513c4ViDVSZ0",
        "colab_type": "text"
      },
      "cell_type": "markdown",
      "source": [
        "##Here are my steps\n",
        "###Step 1: Define the Problem and Collect data, Load the collected data, Visuvalize it\n",
        "###Step 2: Prepare the data (vectorize, reshape, normalize, OHE)\n",
        "###Step 3: Define the network architecture\n",
        "###Step 4: Define the metrics, optimizers, loss function, and Complie the model\n",
        "###Step 5: Train the network\n",
        "###Step 6: Evaluate the network, Iterate to improve the model\n",
        "###Step 7: Predict"
      ]
    },
    {
      "metadata": {
        "id": "l_ptIb6CEon5",
        "colab_type": "code",
        "colab": {
          "base_uri": "https://localhost:8080/",
          "height": 34
        },
        "outputId": "816c8eee-c370-4f9b-a149-615cb2f2f459"
      },
      "cell_type": "code",
      "source": [
        "from keras.datasets import mnist\n",
        "from keras import models\n",
        "from keras import layers\n",
        "from keras.utils import to_categorical\n",
        "from matplotlib import pyplot\n",
        "from keras.utils import plot_model\n",
        "from IPython.display import Image\n"
      ],
      "execution_count": 1,
      "outputs": [
        {
          "output_type": "stream",
          "text": [
            "Using TensorFlow backend.\n"
          ],
          "name": "stderr"
        }
      ]
    },
    {
      "metadata": {
        "id": "xX7Iz4NDYAaV",
        "colab_type": "text"
      },
      "cell_type": "markdown",
      "source": [
        "\n",
        "# 1. Download the MNIST dataset, and load it into 4 variables\n",
        "```\n",
        "(trainX, trainY), (testX, testY) = mnist.load_data()\n",
        "\n",
        "```\n",
        "##Tip 1.  aKerasDataset. load_data(): This method returns 4 variables\n",
        "\n",
        "##Tip 2.  type(myObject) : Use this to find the type of object \n",
        "          (e.g. is it a interger, array)\n",
        "\n",
        "##Tip 3.  myArrary.shape returns the size of the array. \n",
        "            1 D array of 10 elements will be (10).              \n",
        "            2 D array will be (8, 8). \n",
        "\n",
        "\n",
        "\n"
      ]
    },
    {
      "metadata": {
        "id": "OhDD1Wx1EtyT",
        "colab_type": "code",
        "outputId": "d2099362-9db4-4790-a52b-aa9bcbdeb721",
        "colab": {
          "base_uri": "https://localhost:8080/",
          "height": 121
        }
      },
      "cell_type": "code",
      "source": [
        "#Step 1: Load the collected data, Visuvalize it\n",
        "\n",
        "(trainX, trainY), (testX, testY) = mnist.load_data()\n",
        "\n",
        "\n",
        "print('The type of object is ..')\n",
        "print(type(trainX))\n",
        "\n",
        "numberofTrainingsamples = trainX.shape[0]\n",
        "print(\"number of Training samples = \" + str(numberofTrainingsamples))\n",
        "\n",
        "print( \"Shape of trainX: \"+ str(trainX.shape) + \".   Shape of trainY\" + str( trainY.shape))\n",
        "print( \"Shape of testX: \"+ str(testX.shape) )\n",
        "\n",
        "\n",
        "print(\"number of Test samples = \" + str(testX.shape[0]))\n",
        "\n"
      ],
      "execution_count": 2,
      "outputs": [
        {
          "output_type": "stream",
          "text": [
            "The type of object is ..\n",
            "<class 'numpy.ndarray'>\n",
            "number of Training samples = 60000\n",
            "Shape of trainX: (60000, 28, 28).   Shape of trainY(60000,)\n",
            "Shape of testX: (10000, 28, 28)\n",
            "number of Test samples = 10000\n"
          ],
          "name": "stdout"
        }
      ]
    },
    {
      "metadata": {
        "id": "m-4-m8pybmqi",
        "colab_type": "text"
      },
      "cell_type": "markdown",
      "source": [
        "#2. Visuvalize one of the elements of the dataset"
      ]
    },
    {
      "metadata": {
        "id": "tqcmxJs4E_D9",
        "colab_type": "code",
        "outputId": "85af91c4-1ff6-457a-ae67-34901fe46756",
        "colab": {
          "base_uri": "https://localhost:8080/",
          "height": 399
        }
      },
      "cell_type": "code",
      "source": [
        "print(\"TrainY [76] is labels as = \" + str(trainY[76]))\n",
        "print(\"TrainX [76] is a image and looks like this...\")\n",
        "pyplot.imshow(trainX[76])\n",
        "pyplot.show()\n",
        "print( \"Shape of this image is \"+ str(trainX[76].shape) )\n",
        "\n"
      ],
      "execution_count": 3,
      "outputs": [
        {
          "output_type": "stream",
          "text": [
            "TrainY [76] is labels as = 2\n",
            "TrainX [76] is a image and looks like this...\n"
          ],
          "name": "stdout"
        },
        {
          "output_type": "display_data",
          "data": {
            "image/png": "[encoded data removed]",
            "text/plain": [
              "<Figure size 576x396 with 1 Axes>"
            ]
          },
          "metadata": {
            "tags": []
          }
        },
        {
          "output_type": "stream",
          "text": [
            "Shape of this image is (28, 28)\n"
          ],
          "name": "stdout"
        }
      ]
    },
    {
      "metadata": {
        "id": "ovoUonr4b2as",
        "colab_type": "text"
      },
      "cell_type": "markdown",
      "source": [
        "# 2.a Normalize values by dividing by 255\n",
        "\n",
        "Check the values of the arrary before and after dividing it by 255. We divide to normalize the values between 0 and 1 \n",
        "\n",
        "## Tip 1: matplotlib.pyplot.imshow(myArray): Use this to plot an array as a image\n"
      ]
    },
    {
      "metadata": {
        "id": "Elycn3tZFbs1",
        "colab_type": "code",
        "colab": {}
      },
      "cell_type": "code",
      "source": [
        "\n",
        "\n"
      ],
      "execution_count": 0,
      "outputs": []
    },
    {
      "metadata": {
        "id": "CpHaNznyHwYd",
        "colab_type": "code",
        "outputId": "73e15d0a-f03c-4cf1-e37e-d9065b976fdd",
        "colab": {
          "base_uri": "https://localhost:8080/",
          "height": 52
        }
      },
      "cell_type": "code",
      "source": [
        "#Step 2: Prepare the data (vectorize, reshape, normalize, OHE)\n",
        "\n",
        "print(\"trainY: \"+ str(trainY[2]))\n",
        "trainYready = to_categorical(trainY)\n",
        "print(\"trainYOHE: \"+ str(trainYready[2]))\n",
        "testYready = to_categorical(testY)\n",
        "\n"
      ],
      "execution_count": 4,
      "outputs": [
        {
          "output_type": "stream",
          "text": [
            "trainY: 4\n",
            "trainYOHE: [0. 0. 0. 0. 1. 0. 0. 0. 0. 0.]\n"
          ],
          "name": "stdout"
        }
      ]
    },
    {
      "metadata": {
        "id": "KKzam6YSKIb5",
        "colab_type": "code",
        "colab": {}
      },
      "cell_type": "code",
      "source": [
        "\n",
        "trainXnormalized =  trainX.astype('float32') / 255\n",
        "\n",
        "testXnormalized = testX.astype('float32')/ 255"
      ],
      "execution_count": 0,
      "outputs": []
    },
    {
      "metadata": {
        "id": "pcaALZqmICjB",
        "colab_type": "code",
        "colab": {}
      },
      "cell_type": "code",
      "source": [
        "\n"
      ],
      "execution_count": 0,
      "outputs": []
    },
    {
      "metadata": {
        "id": "YHtEsnhlIwfk",
        "colab_type": "code",
        "outputId": "c4af331d-79ff-489d-f536-267f9872ba11",
        "colab": {
          "base_uri": "https://localhost:8080/",
          "height": 86
        }
      },
      "cell_type": "code",
      "source": [
        "print(\"Shape of trainXnormalized[0] is \"+ str(trainXnormalized.shape[0]))\n",
        "\n",
        "\n",
        "print( \"\\n Shape of trainXnormalized is \"+ str(trainXnormalized.shape) )\n",
        "\n",
        "trainXready = trainXnormalized.reshape( trainXnormalized.shape[0], 28*28 )\n",
        "\n",
        "testXready = testXnormalized.reshape( testXnormalized.shape[0], 28*28 )\n",
        "\n",
        "print( \" Shape of trainXready is      \"+ str(trainXready.shape) )\n",
        "\n",
        "\n",
        "\n"
      ],
      "execution_count": 6,
      "outputs": [
        {
          "output_type": "stream",
          "text": [
            "Shape of trainXnormalized[0] is 60000\n",
            "\n",
            " Shape of trainXnormalized is (60000, 28, 28)\n",
            " Shape of trainXready is      (60000, 784)\n"
          ],
          "name": "stdout"
        }
      ]
    },
    {
      "metadata": {
        "id": "5f5enbzldCZi",
        "colab_type": "text"
      },
      "cell_type": "markdown",
      "source": [
        "#3. Define the network architecture\n",
        "\n"
      ]
    },
    {
      "metadata": {
        "id": "4y-n-9slLLJg",
        "colab_type": "code",
        "colab": {
          "base_uri": "https://localhost:8080/",
          "height": 89
        },
        "outputId": "c7018cd9-01f3-44b9-9f2c-8edfc9c644a0"
      },
      "cell_type": "code",
      "source": [
        "#Step 3: Define the network architecture\n",
        "network = models.Sequential(name='My first Neural network , thanks Karunya')\n",
        "layer1 = layers.Dense(120, input_shape=(28*28,), activation='relu')\n",
        "network.add(layer1)\n",
        "layer2 = layers.Dense(50, activation='relu')\n",
        "network.add(layer2)\n",
        "layer3 = layers.Dense(30, activation='relu')\n",
        "network.add(layer3)\n",
        "layer4 = layers.Dense(10, activation='softmax')\n",
        "network.add(layer4)\n"
      ],
      "execution_count": 7,
      "outputs": [
        {
          "output_type": "stream",
          "text": [
            "WARNING:tensorflow:From /usr/local/lib/python3.6/dist-packages/tensorflow/python/framework/op_def_library.py:263: colocate_with (from tensorflow.python.framework.ops) is deprecated and will be removed in a future version.\n",
            "Instructions for updating:\n",
            "Colocations handled automatically by placer.\n"
          ],
          "name": "stdout"
        }
      ]
    },
    {
      "metadata": {
        "id": "BW4OW6RHLQhv",
        "colab_type": "code",
        "outputId": "99c9378a-15df-43e9-9a3a-20a78115ea91",
        "colab": {
          "base_uri": "https://localhost:8080/",
          "height": 328
        }
      },
      "cell_type": "code",
      "source": [
        "print(network.name)\n",
        "\n",
        "print(\"Here is architecture of my neural network..  \")\n",
        "\n",
        "print(network.summary())"
      ],
      "execution_count": 8,
      "outputs": [
        {
          "output_type": "stream",
          "text": [
            "My first Neural network , thanks Karunya\n",
            "Here is architecture of my neural network..  \n",
            "_________________________________________________________________\n",
            "Layer (type)                 Output Shape              Param #   \n",
            "=================================================================\n",
            "dense_1 (Dense)              (None, 120)               94200     \n",
            "_________________________________________________________________\n",
            "dense_2 (Dense)              (None, 50)                6050      \n",
            "_________________________________________________________________\n",
            "dense_3 (Dense)              (None, 30)                1530      \n",
            "_________________________________________________________________\n",
            "dense_4 (Dense)              (None, 10)                310       \n",
            "=================================================================\n",
            "Total params: 102,090\n",
            "Trainable params: 102,090\n",
            "Non-trainable params: 0\n",
            "_________________________________________________________________\n",
            "None\n"
          ],
          "name": "stdout"
        }
      ]
    },
    {
      "metadata": {
        "id": "HNepGJblLo8c",
        "colab_type": "code",
        "outputId": "9a9b1db5-ebea-4416-8fac-131dc8d692c5",
        "colab": {
          "base_uri": "https://localhost:8080/",
          "height": 354
        }
      },
      "cell_type": "code",
      "source": [
        "# Plot model graph\n",
        "\n",
        "print('This is neural network model is a Fully Connected Neural network consisting of 3 Dense layers')\n",
        "print('Input is a array of 784 elements ')\n",
        "print('Output is one of 10 classes ')\n",
        "\n",
        "print(network.name)\n",
        "\n",
        "print(network)\n",
        "\n",
        "plot_model(network, show_shapes=True, show_layer_names=True, to_file='my1stmodel.png')\n",
        "Image(retina=True, filename='my1stmodel.png')\n",
        "\n",
        "\n",
        "\n"
      ],
      "execution_count": 9,
      "outputs": [
        {
          "output_type": "stream",
          "text": [
            "This is neural network model is a Fully Connected Neural network consisting of 3 Dense layers\n",
            "Input is a array of 784 elements \n",
            "Output is one of 10 classes \n",
            "My first Neural network , thanks Karunya\n",
            "<keras.engine.sequential.Sequential object at 0x7f54d9dfaac8>\n"
          ],
          "name": "stdout"
        },
        {
          "output_type": "execute_result",
          "data": {
            "image/png": "[encoded data removed]",
            "text/plain": [
              "<IPython.core.display.Image object>"
            ]
          },
          "metadata": {
            "tags": [],
            "image/png": {
              "width": 173,
              "height": 251
            }
          },
          "execution_count": 9
        }
      ]
    },
    {
      "metadata": {
        "id": "lEkaktnRPVrJ",
        "colab_type": "code",
        "colab": {}
      },
      "cell_type": "code",
      "source": [
        "from google.colab import files\n",
        "files.download('my1stmodel.png')"
      ],
      "execution_count": 0,
      "outputs": []
    },
    {
      "metadata": {
        "id": "cKWqPm6ldVTe",
        "colab_type": "text"
      },
      "cell_type": "markdown",
      "source": [
        "#4. Choose the loss funtion"
      ]
    },
    {
      "metadata": {
        "id": "fsrdAyo5QoGY",
        "colab_type": "code",
        "colab": {}
      },
      "cell_type": "code",
      "source": [
        "#Step 4: Define the metrics, optimizers, loss function, and Complie the model\n",
        "network.compile(optimizer='rmsprop', loss='categorical_crossentropy', metrics=['accuracy'])\n"
      ],
      "execution_count": 0,
      "outputs": []
    },
    {
      "metadata": {
        "id": "xPE41erDdeyF",
        "colab_type": "code",
        "colab": {}
      },
      "cell_type": "code",
      "source": [
        "#5. Train the network "
      ],
      "execution_count": 0,
      "outputs": []
    },
    {
      "metadata": {
        "id": "gHHI14JJdmVx",
        "colab_type": "text"
      },
      "cell_type": "markdown",
      "source": [
        "# 5. Train the network\n",
        "\n",
        "##Tip 1 : myModel.fit( X, Y ) trains the neural network with dataset (X, Y ). \n",
        "It returns a log history, which is a log of values in each iteration "
      ]
    },
    {
      "metadata": {
        "id": "Jd21BCvUQrrr",
        "colab_type": "code",
        "outputId": "4ef2c605-99eb-43e1-d2e8-7c3d254d892f",
        "colab": {
          "base_uri": "https://localhost:8080/",
          "height": 521
        }
      },
      "cell_type": "code",
      "source": [
        "#Step 5: Train the network\n",
        "history = network.fit( trainXready, trainYready, batch_size=32, epochs=20,validation_split=0.02)\n"
      ],
      "execution_count": 13,
      "outputs": [
        {
          "output_type": "stream",
          "text": [
            "WARNING:tensorflow:From /usr/local/lib/python3.6/dist-packages/tensorflow/python/ops/math_ops.py:3066: to_int32 (from tensorflow.python.ops.math_ops) is deprecated and will be removed in a future version.\n",
            "Instructions for updating:\n",
            "Use tf.cast instead.\n",
            "Train on 58800 samples, validate on 1200 samples\n",
            "Epoch 1/12\n",
            "58800/58800 [==============================] - 9s 153us/step - loss: 0.2592 - acc: 0.9231 - val_loss: 0.1409 - val_acc: 0.9600\n",
            "Epoch 2/12\n",
            "58800/58800 [==============================] - 8s 137us/step - loss: 0.1176 - acc: 0.9655 - val_loss: 0.1283 - val_acc: 0.9717\n",
            "Epoch 3/12\n",
            "58800/58800 [==============================] - 8s 137us/step - loss: 0.0892 - acc: 0.9748 - val_loss: 0.1366 - val_acc: 0.9692\n",
            "Epoch 4/12\n",
            "58800/58800 [==============================] - 8s 137us/step - loss: 0.0744 - acc: 0.9780 - val_loss: 0.1269 - val_acc: 0.9783\n",
            "Epoch 5/12\n",
            "58800/58800 [==============================] - 8s 138us/step - loss: 0.0649 - acc: 0.9814 - val_loss: 0.1148 - val_acc: 0.9733\n",
            "Epoch 6/12\n",
            "58800/58800 [==============================] - 8s 137us/step - loss: 0.0553 - acc: 0.9844 - val_loss: 0.1512 - val_acc: 0.9742\n",
            "Epoch 7/12\n",
            "58800/58800 [==============================] - 8s 138us/step - loss: 0.0509 - acc: 0.9862 - val_loss: 0.1395 - val_acc: 0.9767\n",
            "Epoch 8/12\n",
            "58800/58800 [==============================] - 8s 138us/step - loss: 0.0439 - acc: 0.9878 - val_loss: 0.1490 - val_acc: 0.9792\n",
            "Epoch 9/12\n",
            "58800/58800 [==============================] - 8s 139us/step - loss: 0.0406 - acc: 0.9890 - val_loss: 0.1472 - val_acc: 0.9775\n",
            "Epoch 10/12\n",
            "58800/58800 [==============================] - 8s 138us/step - loss: 0.0380 - acc: 0.9898 - val_loss: 0.1422 - val_acc: 0.9792\n",
            "Epoch 11/12\n",
            "58800/58800 [==============================] - 8s 137us/step - loss: 0.0329 - acc: 0.9913 - val_loss: 0.1493 - val_acc: 0.9817\n",
            "Epoch 12/12\n",
            "58800/58800 [==============================] - 8s 141us/step - loss: 0.0355 - acc: 0.9907 - val_loss: 0.1716 - val_acc: 0.9792\n"
          ],
          "name": "stdout"
        }
      ]
    },
    {
      "metadata": {
        "id": "JgbZ34bwQwDw",
        "colab_type": "code",
        "colab": {}
      },
      "cell_type": "code",
      "source": [
        "\n",
        "\n"
      ],
      "execution_count": 0,
      "outputs": []
    },
    {
      "metadata": {
        "id": "tBuUVJrUeJFu",
        "colab_type": "text"
      },
      "cell_type": "markdown",
      "source": [
        "# 6. Predict what class a image belongs to\n",
        "\n",
        "### Tip 1. myModel.predict() accepts a array "
      ]
    },
    {
      "metadata": {
        "id": "AfHQG05NRc0J",
        "colab_type": "code",
        "outputId": "a258a2de-6898-4717-fa4c-e086dd6d24e6",
        "colab": {
          "base_uri": "https://localhost:8080/",
          "height": 468
        }
      },
      "cell_type": "code",
      "source": [
        "import numpy as np\n",
        "\n",
        "#Step 7: Predict\n",
        "\n",
        "\n",
        "predictedResults = network.predict(testXready[1:2])\n",
        "print(\"Predicted Results: \" + str(predictedResults))\n",
        "predictedclass = predictedResults.argmax()\n",
        "\n",
        "\n",
        "predictedResults = np.around(predictedResults)\n",
        "print(\"Predicted Results: \" + str(predictedResults))\n",
        "\n",
        "\n",
        "print(\"Ground Truth OHE : \" + str(testYready[1:2]))\n",
        "\n",
        "print(\"Ground Truth :      \" + str(testY[1:2]))\n",
        "\n",
        "print(\"Predicited class is : \" + str(predictedclass))\n",
        "\n",
        "print(\"My nerual network predicts the below image as : \" + str(predictedclass))\n",
        "\n",
        "\n",
        "pyplot.imshow(testX[1])\n",
        "pyplot.show()\n"
      ],
      "execution_count": 14,
      "outputs": [
        {
          "output_type": "stream",
          "text": [
            "Predicted Results: [[0.0000000e+00 6.2190353e-28 1.0000000e+00 4.6644840e-24 0.0000000e+00\n",
            "  0.0000000e+00 0.0000000e+00 5.3242451e-24 3.8330574e-29 0.0000000e+00]]\n",
            "Predicted Results: [[0. 0. 1. 0. 0. 0. 0. 0. 0. 0.]]\n",
            "Ground Truth OHE : [[0. 0. 1. 0. 0. 0. 0. 0. 0. 0.]]\n",
            "Ground Truth :      [2]\n",
            "Predicited class is : 2\n",
            "My nerual network predicts the below image as : 2\n"
          ],
          "name": "stdout"
        },
        {
          "output_type": "display_data",
          "data": {
            "image/png": "[encoded data removed]",
            "text/plain": [
              "<Figure size 576x396 with 1 Axes>"
            ]
          },
          "metadata": {
            "tags": []
          }
        }
      ]
    },
    {
      "metadata": {
        "id": "NN6BcMUGSyZe",
        "colab_type": "code",
        "outputId": "0b32b1cf-a0bb-4662-cc7a-4bc8dd9b0987",
        "colab": {
          "base_uri": "https://localhost:8080/",
          "height": 468
        }
      },
      "cell_type": "code",
      "source": [
        "\n",
        "#Step 7: Predict\n",
        "\n",
        "hereismyimageindextopredict = 100\n",
        "\n",
        "\n",
        "predictedResults = network.predict(testXready[hereismyimageindextopredict:hereismyimageindextopredict+1])\n",
        "print(\"Predicted Results: \" + str(predictedResults))\n",
        "predictedclass = predictedResults.argmax()\n",
        "\n",
        "\n",
        "predictedResults = np.around(predictedResults)\n",
        "print(\"Predicted Results: \" + str(predictedResults))\n",
        "\n",
        "\n",
        "print(\"Ground Truth OHE : \" + str(testYready[hereismyimageindextopredict:hereismyimageindextopredict+1]))\n",
        "\n",
        "print(\"Ground Truth :      \" + str(testY[hereismyimageindextopredict:hereismyimageindextopredict+1]))\n",
        "\n",
        "print(\"Predicited class is : \" + str(predictedclass))\n",
        "\n",
        "print(\"My nerual network predicts the below image as : \" + str(predictedclass))\n",
        "\n",
        "\n",
        "pyplot.imshow(testX[hereismyimageindextopredict])\n",
        "pyplot.show()\n"
      ],
      "execution_count": 15,
      "outputs": [
        {
          "output_type": "stream",
          "text": [
            "Predicted Results: [[2.6898151e-13 1.7249362e-09 6.2652144e-18 6.1396466e-20 1.1493914e-15\n",
            "  5.3793911e-15 1.0000000e+00 4.0386754e-21 3.9857718e-14 2.5342559e-17]]\n",
            "Predicted Results: [[0. 0. 0. 0. 0. 0. 1. 0. 0. 0.]]\n",
            "Ground Truth OHE : [[0. 0. 0. 0. 0. 0. 1. 0. 0. 0.]]\n",
            "Ground Truth :      [6]\n",
            "Predicited class is : 6\n",
            "My nerual network predicts the below image as : 6\n"
          ],
          "name": "stdout"
        },
        {
          "output_type": "display_data",
          "data": {
            "image/png": "[encoded data removed]",
            "text/plain": [
              "<Figure size 576x396 with 1 Axes>"
            ]
          },
          "metadata": {
            "tags": []
          }
        }
      ]
    },
    {
      "metadata": {
        "id": "MYNZN55BTgD6",
        "colab_type": "code",
        "outputId": "5d0e764c-4553-4007-dc1c-25eaa188c040",
        "colab": {
          "base_uri": "https://localhost:8080/",
          "height": 376
        }
      },
      "cell_type": "code",
      "source": [
        "import matplotlib.pyplot as plt\n",
        "\n",
        "plt.plot(history.history['acc'])\n",
        "plt.plot(history.history['val_acc'])\n",
        "\n",
        "plt.title('Model accuracy')\n",
        "plt.ylabel('Accuracy')\n",
        "plt.xlabel('Epoch')\n",
        "plt.legend(['Train' , 'Validation'], loc='upper left')\n",
        "plt.show()"
      ],
      "execution_count": 19,
      "outputs": [
        {
          "output_type": "display_data",
          "data": {
            "image/png": "[encoded data removed]",
            "text/plain": [
              "<Figure size 576x396 with 1 Axes>"
            ]
          },
          "metadata": {
            "tags": []
          }
        }
      ]
    },
    {
      "metadata": {
        "id": "iquI2z5JT_as",
        "colab_type": "code",
        "outputId": "a0d9f1df-edf6-4adb-f7ea-62e5e13d7774",
        "colab": {
          "base_uri": "https://localhost:8080/",
          "height": 376
        }
      },
      "cell_type": "code",
      "source": [
        "# Plot training & validation loss values\n",
        "plt.plot(history.history['loss'])\n",
        "plt.plot(history.history['val_loss'])\n",
        "\n",
        "plt.title('Model loss')\n",
        "plt.ylabel('Loss')\n",
        "plt.xlabel('Epoch')\n",
        "plt.legend(['Train', 'Validation'], loc='upper left')\n",
        "plt.show()"
      ],
      "execution_count": 17,
      "outputs": [
        {
          "output_type": "display_data",
          "data": {
            "image/png": "[encoded data removed]",
            "text/plain": [
              "<Figure size 576x396 with 1 Axes>"
            ]
          },
          "metadata": {
            "tags": []
          }
        }
      ]
    },
    {
      "metadata": {
        "id": "SAHCKoNtr9pe",
        "colab_type": "code",
        "colab": {
          "base_uri": "https://localhost:8080/",
          "height": 69
        },
        "outputId": "b68b911f-45c1-4bf7-8c78-957047bf5028"
      },
      "cell_type": "code",
      "source": [
        "#Step 6: Evaluate the network\n",
        "metrics_test_loss, metrics_test_accuracy = network.evaluate(testXready, testYready)\n",
        "\n",
        "print(\" Loss on test data is: \" + str(metrics_test_loss))\n",
        "print(\" Accuracy of my nerual network on test data in percentage is : \" + str(metrics_test_accuracy* 100))"
      ],
      "execution_count": 18,
      "outputs": [
        {
          "output_type": "stream",
          "text": [
            "10000/10000 [==============================] - 0s 46us/step\n",
            " Loss on test data is: 0.14425994273255724\n",
            " Accuracy of my nerual network on test data in percentage is : 97.58\n"
          ],
          "name": "stdout"
        }
      ]
    }
  ]
}